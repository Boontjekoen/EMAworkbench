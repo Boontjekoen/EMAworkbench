{
 "cells": [
  {
   "cell_type": "markdown",
   "metadata": {},
   "source": [
    "update direction of optimization for intertia also in previous blogs!"
   ]
  },
  {
   "cell_type": "code",
   "execution_count": 1,
   "metadata": {
    "collapsed": true
   },
   "outputs": [],
   "source": [
    "from __future__ import division # python2 \n",
    "import math\n",
    "import numpy as np\n",
    "from scipy.optimize import brentq\n",
    "\n",
    "def get_antropogenic_release(xt, c1, c2, r1, r2, w1):\n",
    "    '''\n",
    "    \n",
    "    Parameters\n",
    "    ----------\n",
    "    xt : float\n",
    "         polution in lake at time t\n",
    "    c1 : float\n",
    "         center rbf 1\n",
    "    c2 : float\n",
    "         center rbf 2\n",
    "    r1 : float\n",
    "         ratius rbf 1\n",
    "    r2 : float\n",
    "         ratius rbf 2\n",
    "    w1 : float\n",
    "         weight of rbf 1\n",
    "         \n",
    "    note:: w2 = 1 - w1\n",
    "    \n",
    "    '''\n",
    "    \n",
    "    rule = w1*(abs(xt-c1/r1))**3+(1-w1)*(abs(xt-c2/r2))**3\n",
    "    at = min(max(rule, 0.01), 0.1)\n",
    "    return at\n",
    "\n",
    "def lake_model(b=0.42, q=2.0, mean=0.02, stdev=0.001, alpha=0.4,     \n",
    "                 delta=0.98, c1=0.25, c2=0.25, r1=0.5, r2=0.5,\n",
    "                 w1=0.5, nsamples=100, steps=100, seed=None):    \n",
    "    '''runs the lake model for 1 stochastic realisation using specified \n",
    "    random seed.\n",
    "        \n",
    "    Parameters\n",
    "    ----------\n",
    "    b : float\n",
    "        decay rate for P in lake (0.42 = irreversible)\n",
    "    q : float\n",
    "        recycling exponent\n",
    "    mean : float\n",
    "            mean of natural inflows\n",
    "    stdev : float\n",
    "            standard deviation of natural inflows\n",
    "    alpha : float\n",
    "            utility from pollution\n",
    "    delta : float\n",
    "            future utility discount rate\n",
    "    c1 : float\n",
    "    c2 : float\n",
    "    r1 : float\n",
    "    r2 : float\n",
    "    w1 : float\n",
    "    steps : int\n",
    "            the number of time steps (e.g., days)\n",
    "    seed : int, optional\n",
    "           seed for the random number generator\n",
    "    \n",
    "    '''\n",
    "    np.random.seed(seed)\n",
    "    \n",
    "    Pcrit = brentq(lambda x: x**q/(1+x**q) - b*x, 0.01, 1.5)\n",
    "    X = np.zeros((steps,))\n",
    "    decisions = np.zeros((steps,))\n",
    "\n",
    "    X[0] = 0.0\n",
    "\n",
    "    natural_inflows = np.random.lognormal(\n",
    "            math.log(mean**2 / math.sqrt(stdev**2 + mean**2)),\n",
    "            math.sqrt(math.log(1.0 + stdev**2 / mean**2)),\n",
    "            size=steps)\n",
    "\n",
    "    for t in range(steps-1):\n",
    "        decisions[t] = get_antropogenic_release(X[t], c1, c2, r1, r2, w1)\n",
    "        X[t+1] = (1-b)*X[t] + X[t]**q/(1+X[t]**q) + decisions[t] + natural_inflows[t]\n",
    "\n",
    "    reliability = np.sum(X < Pcrit)/steps\n",
    "    utility = np.sum(alpha*decisions*np.power(delta,np.arange(steps)))\n",
    "    \n",
    "    # note that I have slightly changed this formulation to retain\n",
    "    # consistency with the equations in the papers\n",
    "    inertia = np.sum(np.abs(np.diff(decisions)) < 0.01)/(steps-1)\n",
    "    return X, utility, inertia, reliability\n",
    "\n",
    "from ema_workbench import (RealParameter, ScalarOutcome, Constant, \n",
    "                           ReplicatorModel)\n",
    "\n",
    "model = ReplicatorModel('lakeproblem', function=lake_model)\n",
    "model.replications = 150\n",
    "\n",
    "#specify uncertainties\n",
    "model.uncertainties = [RealParameter('b', 0.1, 0.45),\n",
    "                       RealParameter('q', 2.0, 4.5),\n",
    "                       RealParameter('mean', 0.01, 0.05),\n",
    "                       RealParameter('stdev', 0.001, 0.005),\n",
    "                       RealParameter('delta', 0.93, 0.99)]\n",
    "\n",
    "# set levers\n",
    "model.levers = [RealParameter(\"c1\", -2, 2),\n",
    "                RealParameter(\"c2\", -2, 2),\n",
    "                RealParameter(\"r1\", 0, 2), \n",
    "                RealParameter(\"r2\", 0, 2), \n",
    "                RealParameter(\"w1\", 0, 1)]\n",
    "\n",
    "def process_p(values):\n",
    "    values = np.asarray(values)\n",
    "    values = np.mean(values, axis=0)\n",
    "    return np.max(values)\n",
    "\n",
    "#specify outcomes \n",
    "model.outcomes = [ScalarOutcome('max_P', kind=ScalarOutcome.MINIMIZE,\n",
    "                                function=process_p),\n",
    "                  ScalarOutcome('utility', kind=ScalarOutcome.MAXIMIZE,\n",
    "                                function=np.mean),\n",
    "                  ScalarOutcome('inertia', kind=ScalarOutcome.MAXIMIZE,\n",
    "                                function=np.mean),\n",
    "                  ScalarOutcome('reliability', kind=ScalarOutcome.MAXIMIZE,\n",
    "                                function=np.mean)]\n",
    "\n",
    "# override some of the defaults of the model\n",
    "model.constants = [Constant('alpha', 0.41),\n",
    "                   Constant('steps', 100)]"
   ]
  },
  {
   "cell_type": "markdown",
   "metadata": {},
   "source": [
    "# Directed search with the Exploratory Modeling workbench\n",
    "\n",
    "This is the third blog in a series showcasing the functionality of the Exploratory Modeling workbench.  Exploratory modeling entails investigating the way in which uncertainty and/or policy levers map to outcomes. To investigate these mappings, we can either use sampling based strategies (open exploration) or optimization based strategies (directed search) In the [first blog](https://waterprogramming.wordpress.com/2017/11/01/using-the-exploratory-modelling-workbench/), I gave a general overview of the workbench and showed briefly how both investigation strategies can be done. In the [second blog](), I demonstrated the use of the workbench for open exploration in substantial more detail. In this third blog, I will demonstrate in more detail how to use the workbench for directed search. Like in the previous two blog post, I will use the DPS version of the lake problem.  \n",
    "\n",
    "platypus\n",
    "\n",
    "```terminal\n",
    "git pip install trick\n",
    "```\n",
    "\n",
    "* Search over levers\n",
    "* Search over uncertainties: worst case discovery\n",
    "* Robust search\n",
    "\n",
    "specification of direction for outcomes (minimize, maximize, info), only possible to optimize over scalar outcomes.\n"
   ]
  },
  {
   "cell_type": "markdown",
   "metadata": {},
   "source": [
    "## Search over levers\n",
    "Directed search is most often used to search over the decision levers in order to find good candidate strategies. This is for example the first step in the [Many Objective Robust Decision Making process](). This is straightforward to do with the workbench using the optimize method.\n"
   ]
  },
  {
   "cell_type": "code",
   "execution_count": 4,
   "metadata": {},
   "outputs": [
    {
     "name": "stderr",
     "output_type": "stream",
     "text": [
      "[MainProcess/INFO] pool started\n",
      "[MainProcess/INFO] performing 1 scenarios * 50 policies * 1 model(s) = 50 experiments\n",
      "[MainProcess/INFO] 17 cases completed\n",
      "[MainProcess/INFO] 34 cases completed\n",
      "[MainProcess/INFO] experiments finished\n",
      "[MainProcess/INFO] performing 1 scenarios * 50 policies * 1 model(s) = 50 experiments\n",
      "[MainProcess/INFO] 17 cases completed\n",
      "[MainProcess/INFO] 34 cases completed\n",
      "[MainProcess/INFO] experiments finished\n",
      "[MainProcess/INFO] optimization completed, found 4 solutions\n",
      "[MainProcess/INFO] terminating pool\n"
     ]
    }
   ],
   "source": [
    "from ema_workbench import MultiprocessingEvaluator, ema_logging\n",
    "\n",
    "ema_logging.log_to_stderr(ema_logging.INFO)\n",
    "\n",
    "with MultiprocessingEvaluator(model) as evaluator:\n",
    "    results = evaluator.optimize(nfe=100, searchover='levers', \n",
    "                                 epsilons=[0.1,]*len(model.outcomes),\n",
    "                                 population_size=50)"
   ]
  },
  {
   "cell_type": "markdown",
   "metadata": {},
   "source": [
    "the results from optimize is a DataFrame with the decision variables and outcomes of interest. "
   ]
  },
  {
   "cell_type": "code",
   "execution_count": 5,
   "metadata": {},
   "outputs": [
    {
     "data": {
      "text/html": [
       "<div>\n",
       "<style>\n",
       "    .dataframe thead tr:only-child th {\n",
       "        text-align: right;\n",
       "    }\n",
       "\n",
       "    .dataframe thead th {\n",
       "        text-align: left;\n",
       "    }\n",
       "\n",
       "    .dataframe tbody tr th {\n",
       "        vertical-align: top;\n",
       "    }\n",
       "</style>\n",
       "<table border=\"1\" class=\"dataframe\">\n",
       "  <thead>\n",
       "    <tr style=\"text-align: right;\">\n",
       "      <th></th>\n",
       "      <th>c1</th>\n",
       "      <th>c2</th>\n",
       "      <th>r1</th>\n",
       "      <th>r2</th>\n",
       "      <th>w1</th>\n",
       "      <th>max_P</th>\n",
       "      <th>utility</th>\n",
       "      <th>inertia</th>\n",
       "      <th>reliability</th>\n",
       "    </tr>\n",
       "  </thead>\n",
       "  <tbody>\n",
       "    <tr>\n",
       "      <th>0</th>\n",
       "      <td>-1.895108</td>\n",
       "      <td>-1.283488</td>\n",
       "      <td>1.454377</td>\n",
       "      <td>1.809301</td>\n",
       "      <td>0.539255</td>\n",
       "      <td>2.283667</td>\n",
       "      <td>1.772582</td>\n",
       "      <td>0.989899</td>\n",
       "      <td>0.07</td>\n",
       "    </tr>\n",
       "    <tr>\n",
       "      <th>1</th>\n",
       "      <td>0.149778</td>\n",
       "      <td>1.128526</td>\n",
       "      <td>1.797692</td>\n",
       "      <td>1.762793</td>\n",
       "      <td>0.651230</td>\n",
       "      <td>0.228591</td>\n",
       "      <td>0.527601</td>\n",
       "      <td>0.976835</td>\n",
       "      <td>1.00</td>\n",
       "    </tr>\n",
       "    <tr>\n",
       "      <th>2</th>\n",
       "      <td>-0.183842</td>\n",
       "      <td>0.461778</td>\n",
       "      <td>0.765907</td>\n",
       "      <td>1.325156</td>\n",
       "      <td>0.894940</td>\n",
       "      <td>2.283776</td>\n",
       "      <td>1.592274</td>\n",
       "      <td>0.959596</td>\n",
       "      <td>0.12</td>\n",
       "    </tr>\n",
       "    <tr>\n",
       "      <th>3</th>\n",
       "      <td>-0.164814</td>\n",
       "      <td>0.572304</td>\n",
       "      <td>1.464873</td>\n",
       "      <td>1.762059</td>\n",
       "      <td>0.274790</td>\n",
       "      <td>0.096258</td>\n",
       "      <td>0.209388</td>\n",
       "      <td>0.989899</td>\n",
       "      <td>1.00</td>\n",
       "    </tr>\n",
       "  </tbody>\n",
       "</table>\n",
       "</div>"
      ],
      "text/plain": [
       "         c1        c2        r1        r2        w1     max_P   utility  \\\n",
       "0 -1.895108 -1.283488  1.454377  1.809301  0.539255  2.283667  1.772582   \n",
       "1  0.149778  1.128526  1.797692  1.762793  0.651230  0.228591  0.527601   \n",
       "2 -0.183842  0.461778  0.765907  1.325156  0.894940  2.283776  1.592274   \n",
       "3 -0.164814  0.572304  1.464873  1.762059  0.274790  0.096258  0.209388   \n",
       "\n",
       "    inertia  reliability  \n",
       "0  0.989899         0.07  \n",
       "1  0.976835         1.00  \n",
       "2  0.959596         0.12  \n",
       "3  0.989899         1.00  "
      ]
     },
     "execution_count": 5,
     "metadata": {},
     "output_type": "execute_result"
    }
   ],
   "source": [
    "results"
   ]
  },
  {
   "cell_type": "markdown",
   "metadata": {},
   "source": [
    "### Specifying constraints\n",
    "It is possible to specify a constrained optimization problem. A model can have one or more constraints. A constraint can be applied to the model input parameters (both uncertainties and levers), and/or outcomes. A constraint is essentially a function that should return the distance from the feasibility threshold. The distance should be 0 if the constraint is met.\n"
   ]
  },
  {
   "cell_type": "code",
   "execution_count": 6,
   "metadata": {
    "collapsed": true
   },
   "outputs": [],
   "source": [
    "from ema_workbench import Constraint\n",
    "\n",
    "model.constraints = [Constraint(\"max pollution\", outcome_names=\"max_P\",\n",
    "                      function=lambda x:max(0, x-1))]"
   ]
  },
  {
   "cell_type": "code",
   "execution_count": 7,
   "metadata": {},
   "outputs": [
    {
     "name": "stderr",
     "output_type": "stream",
     "text": [
      "[MainProcess/INFO] pool started\n",
      "[MainProcess/INFO] performing 1 scenarios * 25 policies * 1 model(s) = 25 experiments\n",
      "[MainProcess/INFO] 8 cases completed\n",
      "[MainProcess/INFO] 16 cases completed\n",
      "[MainProcess/INFO] 24 cases completed\n",
      "[MainProcess/INFO] experiments finished\n",
      "[MainProcess/INFO] performing 1 scenarios * 26 policies * 1 model(s) = 26 experiments\n",
      "[MainProcess/INFO] 9 cases completed\n",
      "[MainProcess/INFO] 18 cases completed\n",
      "[MainProcess/INFO] experiments finished\n",
      "[MainProcess/INFO] performing 1 scenarios * 26 policies * 1 model(s) = 26 experiments\n",
      "[MainProcess/INFO] 9 cases completed\n",
      "[MainProcess/INFO] 18 cases completed\n",
      "[MainProcess/INFO] experiments finished\n",
      "[MainProcess/INFO] performing 1 scenarios * 26 policies * 1 model(s) = 26 experiments\n",
      "[MainProcess/INFO] 9 cases completed\n",
      "[MainProcess/INFO] 18 cases completed\n",
      "[MainProcess/INFO] experiments finished\n",
      "[MainProcess/INFO] optimization completed, found 3 solutions\n",
      "[MainProcess/INFO] terminating pool\n"
     ]
    }
   ],
   "source": [
    "from ema_workbench import MultiprocessingEvaluator\n",
    "from ema_workbench import ema_logging\n",
    "\n",
    "ema_logging.log_to_stderr(ema_logging.INFO)\n",
    "\n",
    "with MultiprocessingEvaluator(model) as evaluator:\n",
    "    results = evaluator.optimize(nfe=100, searchover='levers', \n",
    "                                 epsilons=[0.1,]*len(model.outcomes),\n",
    "                                 population_size=25)"
   ]
  },
  {
   "cell_type": "code",
   "execution_count": 8,
   "metadata": {},
   "outputs": [
    {
     "data": {
      "text/html": [
       "<div>\n",
       "<style>\n",
       "    .dataframe thead tr:only-child th {\n",
       "        text-align: right;\n",
       "    }\n",
       "\n",
       "    .dataframe thead th {\n",
       "        text-align: left;\n",
       "    }\n",
       "\n",
       "    .dataframe tbody tr th {\n",
       "        vertical-align: top;\n",
       "    }\n",
       "</style>\n",
       "<table border=\"1\" class=\"dataframe\">\n",
       "  <thead>\n",
       "    <tr style=\"text-align: right;\">\n",
       "      <th></th>\n",
       "      <th>c1</th>\n",
       "      <th>c2</th>\n",
       "      <th>r1</th>\n",
       "      <th>r2</th>\n",
       "      <th>w1</th>\n",
       "      <th>max_P</th>\n",
       "      <th>utility</th>\n",
       "      <th>inertia</th>\n",
       "      <th>reliability</th>\n",
       "    </tr>\n",
       "  </thead>\n",
       "  <tbody>\n",
       "    <tr>\n",
       "      <th>0</th>\n",
       "      <td>-0.268200</td>\n",
       "      <td>0.356875</td>\n",
       "      <td>0.798697</td>\n",
       "      <td>0.702906</td>\n",
       "      <td>0.002402</td>\n",
       "      <td>0.212782</td>\n",
       "      <td>0.520996</td>\n",
       "      <td>0.969697</td>\n",
       "      <td>1.0</td>\n",
       "    </tr>\n",
       "    <tr>\n",
       "      <th>1</th>\n",
       "      <td>0.028828</td>\n",
       "      <td>1.052911</td>\n",
       "      <td>0.596582</td>\n",
       "      <td>1.722438</td>\n",
       "      <td>0.691783</td>\n",
       "      <td>0.190484</td>\n",
       "      <td>0.483638</td>\n",
       "      <td>0.979798</td>\n",
       "      <td>1.0</td>\n",
       "    </tr>\n",
       "    <tr>\n",
       "      <th>2</th>\n",
       "      <td>0.030561</td>\n",
       "      <td>0.631439</td>\n",
       "      <td>1.386814</td>\n",
       "      <td>1.700615</td>\n",
       "      <td>0.438591</td>\n",
       "      <td>0.098296</td>\n",
       "      <td>0.220050</td>\n",
       "      <td>0.986936</td>\n",
       "      <td>1.0</td>\n",
       "    </tr>\n",
       "  </tbody>\n",
       "</table>\n",
       "</div>"
      ],
      "text/plain": [
       "         c1        c2        r1        r2        w1     max_P   utility  \\\n",
       "0 -0.268200  0.356875  0.798697  0.702906  0.002402  0.212782  0.520996   \n",
       "1  0.028828  1.052911  0.596582  1.722438  0.691783  0.190484  0.483638   \n",
       "2  0.030561  0.631439  1.386814  1.700615  0.438591  0.098296  0.220050   \n",
       "\n",
       "    inertia  reliability  \n",
       "0  0.969697          1.0  \n",
       "1  0.979798          1.0  \n",
       "2  0.986936          1.0  "
      ]
     },
     "execution_count": 8,
     "metadata": {},
     "output_type": "execute_result"
    }
   ],
   "source": [
    "results"
   ]
  },
  {
   "cell_type": "markdown",
   "metadata": {},
   "source": [
    "### tracking convergence "
   ]
  },
  {
   "cell_type": "markdown",
   "metadata": {},
   "source": [
    "```python\n",
    "with MultiprocessingEvaluator(dike_model) as evaluator:\n",
    "    optimization_results = evaluator.optimize(searchover='levers', \n",
    "                      nfe=10000, convergence=['hypervolume', 'e-progress'] \n",
    "                      epsilons=[0.1,]*len(model.outcomes))\n",
    "```\n",
    "\n",
    "basically, convergence takes one of more strings with the kind of progress you want to track. The list should match the various progress metrics available in platypus, might also just take a boolean (but what would be the default)\n",
    "\n",
    "implementation would involve a general callback class to which you add functions for each progress indicator. __call__ can then loop over these functions\n",
    "\n"
   ]
  },
  {
   "cell_type": "code",
   "execution_count": 14,
   "metadata": {},
   "outputs": [
    {
     "name": "stderr",
     "output_type": "stream",
     "text": [
      "[MainProcess/INFO] pool started\n",
      "[MainProcess/INFO] performing 1 scenarios * 50 policies * 1 model(s) = 50 experiments\n",
      "[MainProcess/INFO] 17 cases completed\n",
      "[MainProcess/INFO] 34 cases completed\n",
      "[MainProcess/INFO] experiments finished\n",
      "[MainProcess/INFO] performing 1 scenarios * 48 policies * 1 model(s) = 48 experiments\n",
      "[MainProcess/INFO] 16 cases completed\n",
      "[MainProcess/INFO] 32 cases completed\n",
      "[MainProcess/INFO] 48 cases completed\n",
      "[MainProcess/INFO] experiments finished\n",
      "[MainProcess/INFO] performing 1 scenarios * 48 policies * 1 model(s) = 48 experiments\n",
      "[MainProcess/INFO] 16 cases completed\n",
      "[MainProcess/INFO] 32 cases completed\n",
      "[MainProcess/INFO] 48 cases completed\n",
      "[MainProcess/INFO] experiments finished\n",
      "[MainProcess/INFO] performing 1 scenarios * 50 policies * 1 model(s) = 50 experiments\n",
      "[MainProcess/INFO] 17 cases completed\n",
      "[MainProcess/INFO] 34 cases completed\n",
      "[MainProcess/INFO] experiments finished\n",
      "[MainProcess/INFO] performing 1 scenarios * 49 policies * 1 model(s) = 49 experiments\n",
      "[MainProcess/INFO] 16 cases completed\n",
      "[MainProcess/INFO] 32 cases completed\n",
      "[MainProcess/INFO] 48 cases completed\n",
      "[MainProcess/INFO] experiments finished\n",
      "[MainProcess/INFO] performing 1 scenarios * 46 policies * 1 model(s) = 46 experiments\n",
      "[MainProcess/INFO] 15 cases completed\n",
      "[MainProcess/INFO] 30 cases completed\n",
      "[MainProcess/INFO] 45 cases completed\n",
      "[MainProcess/INFO] experiments finished\n",
      "[MainProcess/INFO] performing 1 scenarios * 49 policies * 1 model(s) = 49 experiments\n",
      "[MainProcess/INFO] 16 cases completed\n",
      "[MainProcess/INFO] 32 cases completed\n",
      "[MainProcess/INFO] 48 cases completed\n",
      "[MainProcess/INFO] experiments finished\n",
      "[MainProcess/INFO] performing 1 scenarios * 49 policies * 1 model(s) = 49 experiments\n",
      "[MainProcess/INFO] 16 cases completed\n",
      "[MainProcess/INFO] 32 cases completed\n",
      "[MainProcess/INFO] 48 cases completed\n",
      "[MainProcess/INFO] experiments finished\n",
      "[MainProcess/INFO] performing 1 scenarios * 47 policies * 1 model(s) = 47 experiments\n",
      "[MainProcess/INFO] 16 cases completed\n",
      "[MainProcess/INFO] 32 cases completed\n",
      "[MainProcess/INFO] experiments finished\n",
      "[MainProcess/INFO] performing 1 scenarios * 49 policies * 1 model(s) = 49 experiments\n",
      "[MainProcess/INFO] 16 cases completed\n",
      "[MainProcess/INFO] 32 cases completed\n",
      "[MainProcess/INFO] 48 cases completed\n",
      "[MainProcess/INFO] experiments finished\n",
      "[MainProcess/INFO] performing 1 scenarios * 48 policies * 1 model(s) = 48 experiments\n",
      "[MainProcess/INFO] 16 cases completed\n",
      "[MainProcess/INFO] 32 cases completed\n",
      "[MainProcess/INFO] 48 cases completed\n",
      "[MainProcess/INFO] experiments finished\n",
      "[MainProcess/INFO] optimization completed, found 2 solutions\n",
      "[MainProcess/INFO] terminating pool\n"
     ]
    }
   ],
   "source": [
    "from ema_workbench.em_framework.optimization import (HyperVolume,\n",
    "                                                     EpsilonProgress)\n",
    "\n",
    "convergence_metrics = [HyperVolume(minimum=[0,0,0,0], maximum=[1,1,1,1]),\n",
    "                       xEpsilonProgress()]\n",
    "\n",
    "with MultiprocessingEvaluator(model) as evaluator:\n",
    "    results, convergence = evaluator.optimize(nfe=500, searchover='levers', \n",
    "                                    epsilons=[0.1,]*len(model.outcomes),\n",
    "                                    convergence=convergence_metrics,\n",
    "                                    population_size=50)"
   ]
  },
  {
   "cell_type": "code",
   "execution_count": 15,
   "metadata": {},
   "outputs": [
    {
     "data": {
      "text/html": [
       "<div>\n",
       "<style>\n",
       "    .dataframe thead tr:only-child th {\n",
       "        text-align: right;\n",
       "    }\n",
       "\n",
       "    .dataframe thead th {\n",
       "        text-align: left;\n",
       "    }\n",
       "\n",
       "    .dataframe tbody tr th {\n",
       "        vertical-align: top;\n",
       "    }\n",
       "</style>\n",
       "<table border=\"1\" class=\"dataframe\">\n",
       "  <thead>\n",
       "    <tr style=\"text-align: right;\">\n",
       "      <th></th>\n",
       "      <th>c1</th>\n",
       "      <th>c2</th>\n",
       "      <th>r1</th>\n",
       "      <th>r2</th>\n",
       "      <th>w1</th>\n",
       "      <th>max_P</th>\n",
       "      <th>utility</th>\n",
       "      <th>inertia</th>\n",
       "      <th>reliability</th>\n",
       "    </tr>\n",
       "  </thead>\n",
       "  <tbody>\n",
       "    <tr>\n",
       "      <th>0</th>\n",
       "      <td>0.453774</td>\n",
       "      <td>0.545421</td>\n",
       "      <td>1.403000</td>\n",
       "      <td>1.481169</td>\n",
       "      <td>0.933565</td>\n",
       "      <td>0.099130</td>\n",
       "      <td>0.226716</td>\n",
       "      <td>0.979798</td>\n",
       "      <td>1.0</td>\n",
       "    </tr>\n",
       "    <tr>\n",
       "      <th>1</th>\n",
       "      <td>0.683412</td>\n",
       "      <td>0.060178</td>\n",
       "      <td>1.281227</td>\n",
       "      <td>1.480484</td>\n",
       "      <td>0.631371</td>\n",
       "      <td>0.197515</td>\n",
       "      <td>0.501344</td>\n",
       "      <td>0.979731</td>\n",
       "      <td>1.0</td>\n",
       "    </tr>\n",
       "  </tbody>\n",
       "</table>\n",
       "</div>"
      ],
      "text/plain": [
       "         c1        c2        r1        r2        w1     max_P   utility  \\\n",
       "0  0.453774  0.545421  1.403000  1.481169  0.933565  0.099130  0.226716   \n",
       "1  0.683412  0.060178  1.281227  1.480484  0.631371  0.197515  0.501344   \n",
       "\n",
       "    inertia  reliability  \n",
       "0  0.979798          1.0  \n",
       "1  0.979731          1.0  "
      ]
     },
     "execution_count": 15,
     "metadata": {},
     "output_type": "execute_result"
    }
   ],
   "source": [
    "results"
   ]
  },
  {
   "cell_type": "code",
   "execution_count": 18,
   "metadata": {},
   "outputs": [
    {
     "data": {
      "image/png": "[encoded data removed]",
      "text/plain": [
       "<matplotlib.figure.Figure at 0x11b0da710>"
      ]
     },
     "metadata": {},
     "output_type": "display_data"
    },
    {
     "data": {
      "image/png": "[encoded data removed]",
      "text/plain": [
       "<matplotlib.figure.Figure at 0x11b588f98>"
      ]
     },
     "metadata": {},
     "output_type": "display_data"
    }
   ],
   "source": [
    "fig, ax = plt.subplots()\n",
    "ax.plot(convergence.epsilon_progress)\n",
    "plt.show()\n",
    "\n",
    "fig, ax = plt.subplots()\n",
    "ax.plot(convergence.hypervolume)\n",
    "plt.show()"
   ]
  },
  {
   "cell_type": "markdown",
   "metadata": {},
   "source": [
    "### Changing the reference scenario \n",
    "\n"
   ]
  },
  {
   "cell_type": "code",
   "execution_count": null,
   "metadata": {
    "collapsed": true
   },
   "outputs": [],
   "source": []
  },
  {
   "cell_type": "markdown",
   "metadata": {},
   "source": [
    "## Search over uncertainties: worst case discovery"
   ]
  },
  {
   "cell_type": "code",
   "execution_count": null,
   "metadata": {
    "collapsed": true
   },
   "outputs": [],
   "source": [
    "# change outcomes so direction is undesirable\n",
    "minimize = ScalarOutcome.MINIMIZE\n",
    "maximize = ScalarOutcome.MAXIMIZE\n",
    "\n",
    "for outcome in model.outcomes:\n",
    "    if outcome.kind == minimize:\n",
    "        outcome.kind = maximize\n",
    "    else:\n",
    "        outcome.kind = minimize"
   ]
  },
  {
   "cell_type": "code",
   "execution_count": null,
   "metadata": {
    "collapsed": true
   },
   "outputs": [],
   "source": [
    "with MultiprocessingEvaluator(model) as evaluator:\n",
    "    results = evaluator.optimize(nfe=1000, searchover='uncertainties', \n",
    "                                 epsilons=[0.1,]*len(model.outcomes))"
   ]
  },
  {
   "cell_type": "markdown",
   "metadata": {},
   "source": [
    "## Robust Search"
   ]
  },
  {
   "cell_type": "code",
   "execution_count": null,
   "metadata": {
    "collapsed": true
   },
   "outputs": [],
   "source": [
    "import functools\n",
    "\n",
    "percentile10 = functools.partial(np.percentile, q=10)\n",
    "percentile90 = functools.partial(np.percentile, q=90)\n",
    "\n",
    "MAXIMIZE = ScalarOutcome.MAXIMIZE\n",
    "MINIMIZE = ScalarOutcome.MINIMIZE\n",
    "robustnes_functions = [ScalarOutcome('90th percentile max_p', kind=MINIMIZE, \n",
    "                             variable_name='max_P', function=percentile90),\n",
    "                       ScalarOutcome('10th percentile reliability', kind=MAXIMIZE, \n",
    "                             variable_name='reliability', function=percentile10),\n",
    "                       ScalarOutcome('10th percentile inertia', kind=MAXIMIZE, \n",
    "                             variable_name='inertia', function=percentile10),\n",
    "                       ScalarOutcome('10th percentile utility', kind=MAXIMIZE, \n",
    "                             variable_name='utility', function=percentile10)]\n",
    "\n",
    "n_scenarios = 200\n",
    "scenarios = sample_uncertainties(lake_model, n_scenarios)\n",
    "nfe = 100000\n",
    "\n",
    "with MultiprocessingEvaluator(lake_model) as evaluator:\n",
    "    robust_results = evaluator.robust_optimize(robustnes_functions, scenarios, \n",
    "                            nfe=nfe, epsilons=[0.05,]*len(robustnes_functions))"
   ]
  }
 ],
 "metadata": {
  "kernelspec": {
   "display_name": "Python 3",
   "language": "python",
   "name": "python3"
  },
  "language_info": {
   "codemirror_mode": {
    "name": "ipython",
    "version": 3
   },
   "file_extension": ".py",
   "mimetype": "text/x-python",
   "name": "python",
   "nbconvert_exporter": "python",
   "pygments_lexer": "ipython3",
   "version": "3.6.3"
  },
  "latex_envs": {
   "LaTeX_envs_menu_present": true,
   "autocomplete": true,
   "bibliofile": "biblio.bib",
   "cite_by": "apalike",
   "current_citInitial": 1,
   "eqLabelWithNumbers": true,
   "eqNumInitial": 1,
   "hotkeys": {
    "equation": "Ctrl-E",
    "itemize": "Ctrl-I"
   },
   "labels_anchors": false,
   "latex_user_defs": false,
   "report_style_numbering": false,
   "user_envs_cfg": false
  }
 },
 "nbformat": 4,
 "nbformat_minor": 2
}
