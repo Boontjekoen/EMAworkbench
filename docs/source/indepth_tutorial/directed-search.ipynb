{
 "cells": [
  {
   "cell_type": "markdown",
   "metadata": {},
   "source": [
    "# Directed search\n",
    "\n",
    "This is the third turial in a series showcasing the functionality of the Exploratory Modeling workbench. Exploratory modeling entails investigating the way in which uncertainty and/or policy levers map to outcomes. To investigate these mappings, we can either use sampling based strategies (open exploration) or optimization based strategies (directed search).\n",
    "\n",
    "In this tutorial, I will demonstrate in more detail how to use the workbench for directed search. We are using the same example as in the previous tutorials. When using optimization, it is critical that you specify for each Scalar Outcome the direction in which it should move. There are three possibilities: info which is ignored, maximize, and minimize. If the `kind` keyword argument is not specified, it defaults to info."
   ]
  },
  {
   "cell_type": "code",
   "execution_count": 1,
   "metadata": {},
   "outputs": [],
   "source": [
    "from ema_workbench import (RealParameter, ScalarOutcome, Constant, \n",
    "                           Model)\n",
    "from dps_lake_model import lake_model\n",
    "\n",
    "model = Model('lakeproblem', function=lake_model)\n",
    "\n",
    "#specify uncertainties\n",
    "model.uncertainties = [RealParameter('b', 0.1, 0.45),\n",
    "                       RealParameter('q', 2.0, 4.5),\n",
    "                       RealParameter('mean', 0.01, 0.05),\n",
    "                       RealParameter('stdev', 0.001, 0.005),\n",
    "                       RealParameter('delta', 0.93, 0.99)]\n",
    "\n",
    "# set levers\n",
    "model.levers = [RealParameter(\"c1\", -2, 2),\n",
    "                RealParameter(\"c2\", -2, 2),\n",
    "                RealParameter(\"r1\", 0, 2), \n",
    "                RealParameter(\"r2\", 0, 2), \n",
    "                RealParameter(\"w1\", 0, 1)]\n",
    "\n",
    "#specify outcomes \n",
    "model.outcomes = [ScalarOutcome('max_P', ScalarOutcome.MINIMIZE),\n",
    "                  ScalarOutcome('utility', ScalarOutcome.MAXIMIZE),\n",
    "                  ScalarOutcome('inertia', ScalarOutcome.MAXIMIZE),\n",
    "                  ScalarOutcome('reliability', ScalarOutcome.MAXIMIZE)]\n",
    "\n",
    "# override some of the defaults of the model\n",
    "model.constants = [Constant('alpha', 0.41),\n",
    "                   Constant('nsamples', 150),\n",
    "                   Constant('myears', 100)]"
   ]
  },
  {
   "cell_type": "markdown",
   "metadata": {},
   "source": [
    "Using directed search with the ema_workbench requires [platypus-opt](https://github.com/Project-Platypus/Platypus). Please check the installation suggestions provided in the readme of the github repository. I personally either install from github directly \n",
    "\n",
    "\n",
    "```\n",
    "pip git+https://github.com/Project-Platypus/Platypus.git\n",
    "```\n",
    "\n",
    "or through pip\n",
    "\n",
    "```\n",
    "pip install platypus-opt\n",
    "```\n",
    "\n",
    "One note of caution: don't install platypus, but platypus-opt. There exists a python package on pip called platypus, but that is quite a different kind of libary. \n",
    "\n",
    "There are three ways in which we can use optimization in the workbench:\n",
    "1. Search over the decision levers, conditional on a reference scenario\n",
    "2. Search over the uncertain factors, conditional on a reference policy\n",
    "3. Search over the decision levers given a set of scenarios"
   ]
  },
  {
   "cell_type": "markdown",
   "metadata": {},
   "source": [
    "## Search over levers\n",
    "Directed search is most often used to search over the decision levers in order to find good candidate strategies. This is for example the first step in the [Many Objective Robust Decision Making process](https://www.sciencedirect.com/science/article/pii/S1364815212003131). This is straightforward to do with the workbench using the optimize method. Note that I have kept the number of functional evaluations (nfe) very low. In real applications this should be substantially higher and be based on convergence considerations which are demonstrated below.\n"
   ]
  },
  {
   "cell_type": "code",
   "execution_count": 2,
   "metadata": {},
   "outputs": [
    {
     "name": "stderr",
     "output_type": "stream",
     "text": [
      "[MainProcess/INFO] pool started\n",
      "[MainProcess/INFO] generation 0: 0/250 nfe\n",
      "[MainProcess/INFO] optimization completed, found 7 solutions\n",
      "[MainProcess/INFO] terminating pool\n"
     ]
    }
   ],
   "source": [
    "from ema_workbench import MultiprocessingEvaluator, ema_logging\n",
    "\n",
    "ema_logging.log_to_stderr(ema_logging.INFO)\n",
    "\n",
    "with MultiprocessingEvaluator(model) as evaluator:\n",
    "    results = evaluator.optimize(nfe=250, searchover='levers', \n",
    "                                 epsilons=[0.1,]*len(model.outcomes))"
   ]
  },
  {
   "cell_type": "markdown",
   "metadata": {},
   "source": [
    "the results from optimize is a DataFrame with the decision variables and outcomes of interest. "
   ]
  },
  {
   "cell_type": "code",
   "execution_count": 3,
   "metadata": {},
   "outputs": [
    {
     "data": {
      "text/html": [
       "<div>\n",
       "<style scoped>\n",
       "    .dataframe tbody tr th:only-of-type {\n",
       "        vertical-align: middle;\n",
       "    }\n",
       "\n",
       "    .dataframe tbody tr th {\n",
       "        vertical-align: top;\n",
       "    }\n",
       "\n",
       "    .dataframe thead th {\n",
       "        text-align: right;\n",
       "    }\n",
       "</style>\n",
       "<table border=\"1\" class=\"dataframe\">\n",
       "  <thead>\n",
       "    <tr style=\"text-align: right;\">\n",
       "      <th></th>\n",
       "      <th>c1</th>\n",
       "      <th>c2</th>\n",
       "      <th>r1</th>\n",
       "      <th>r2</th>\n",
       "      <th>w1</th>\n",
       "      <th>max_P</th>\n",
       "      <th>utility</th>\n",
       "      <th>inertia</th>\n",
       "      <th>reliability</th>\n",
       "    </tr>\n",
       "  </thead>\n",
       "  <tbody>\n",
       "    <tr>\n",
       "      <th>0</th>\n",
       "      <td>-0.281259</td>\n",
       "      <td>0.348723</td>\n",
       "      <td>0.885731</td>\n",
       "      <td>0.363372</td>\n",
       "      <td>0.149225</td>\n",
       "      <td>2.283845</td>\n",
       "      <td>1.653501</td>\n",
       "      <td>0.981000</td>\n",
       "      <td>0.110</td>\n",
       "    </tr>\n",
       "    <tr>\n",
       "      <th>1</th>\n",
       "      <td>1.887630</td>\n",
       "      <td>1.763711</td>\n",
       "      <td>0.447031</td>\n",
       "      <td>0.233169</td>\n",
       "      <td>0.993679</td>\n",
       "      <td>1.961390</td>\n",
       "      <td>0.640466</td>\n",
       "      <td>0.990000</td>\n",
       "      <td>0.070</td>\n",
       "    </tr>\n",
       "    <tr>\n",
       "      <th>2</th>\n",
       "      <td>-0.196776</td>\n",
       "      <td>1.658306</td>\n",
       "      <td>1.446868</td>\n",
       "      <td>0.512583</td>\n",
       "      <td>0.652481</td>\n",
       "      <td>2.283629</td>\n",
       "      <td>1.778130</td>\n",
       "      <td>0.990000</td>\n",
       "      <td>0.070</td>\n",
       "    </tr>\n",
       "    <tr>\n",
       "      <th>3</th>\n",
       "      <td>0.422873</td>\n",
       "      <td>0.015428</td>\n",
       "      <td>0.635058</td>\n",
       "      <td>1.613673</td>\n",
       "      <td>0.625444</td>\n",
       "      <td>0.205485</td>\n",
       "      <td>0.545987</td>\n",
       "      <td>0.990000</td>\n",
       "      <td>1.000</td>\n",
       "    </tr>\n",
       "    <tr>\n",
       "      <th>4</th>\n",
       "      <td>-0.100988</td>\n",
       "      <td>-0.499655</td>\n",
       "      <td>1.964256</td>\n",
       "      <td>1.656919</td>\n",
       "      <td>0.516085</td>\n",
       "      <td>2.283697</td>\n",
       "      <td>1.281095</td>\n",
       "      <td>0.988133</td>\n",
       "      <td>0.246</td>\n",
       "    </tr>\n",
       "    <tr>\n",
       "      <th>5</th>\n",
       "      <td>0.422873</td>\n",
       "      <td>0.014139</td>\n",
       "      <td>0.828377</td>\n",
       "      <td>1.728809</td>\n",
       "      <td>0.636168</td>\n",
       "      <td>0.155383</td>\n",
       "      <td>0.455180</td>\n",
       "      <td>0.990000</td>\n",
       "      <td>1.000</td>\n",
       "    </tr>\n",
       "    <tr>\n",
       "      <th>6</th>\n",
       "      <td>0.334817</td>\n",
       "      <td>0.014139</td>\n",
       "      <td>0.885463</td>\n",
       "      <td>1.728809</td>\n",
       "      <td>0.636168</td>\n",
       "      <td>0.099771</td>\n",
       "      <td>0.265060</td>\n",
       "      <td>0.990000</td>\n",
       "      <td>1.000</td>\n",
       "    </tr>\n",
       "  </tbody>\n",
       "</table>\n",
       "</div>"
      ],
      "text/plain": [
       "         c1        c2        r1        r2        w1     max_P   utility  \\\n",
       "0 -0.281259  0.348723  0.885731  0.363372  0.149225  2.283845  1.653501   \n",
       "1  1.887630  1.763711  0.447031  0.233169  0.993679  1.961390  0.640466   \n",
       "2 -0.196776  1.658306  1.446868  0.512583  0.652481  2.283629  1.778130   \n",
       "3  0.422873  0.015428  0.635058  1.613673  0.625444  0.205485  0.545987   \n",
       "4 -0.100988 -0.499655  1.964256  1.656919  0.516085  2.283697  1.281095   \n",
       "5  0.422873  0.014139  0.828377  1.728809  0.636168  0.155383  0.455180   \n",
       "6  0.334817  0.014139  0.885463  1.728809  0.636168  0.099771  0.265060   \n",
       "\n",
       "    inertia  reliability  \n",
       "0  0.981000        0.110  \n",
       "1  0.990000        0.070  \n",
       "2  0.990000        0.070  \n",
       "3  0.990000        1.000  \n",
       "4  0.988133        0.246  \n",
       "5  0.990000        1.000  \n",
       "6  0.990000        1.000  "
      ]
     },
     "execution_count": 3,
     "metadata": {},
     "output_type": "execute_result"
    }
   ],
   "source": [
    "results"
   ]
  },
  {
   "cell_type": "markdown",
   "metadata": {},
   "source": [
    "### Specifying constraints\n",
    "It is possible to specify a constrained optimization problem. A model can have one or more constraints. A constraint can be applied to the model input parameters (both uncertainties and levers), and/or outcomes. A constraint is essentially a function that should return the distance from the feasibility threshold. The distance should be 0 if the constraint is met.\n"
   ]
  },
  {
   "cell_type": "code",
   "execution_count": 4,
   "metadata": {
    "collapsed": true
   },
   "outputs": [],
   "source": [
    "from ema_workbench import Constraint\n",
    "\n",
    "constraints = [Constraint(\"max pollution\", outcome_names=\"max_P\",\n",
    "                          function=lambda x:max(0, x-1))]"
   ]
  },
  {
   "cell_type": "code",
   "execution_count": 5,
   "metadata": {},
   "outputs": [
    {
     "name": "stderr",
     "output_type": "stream",
     "text": [
      "[MainProcess/INFO] pool started\n",
      "[MainProcess/INFO] generation 0: 0/250 nfe\n",
      "[MainProcess/INFO] optimization completed, found 2 solutions\n",
      "[MainProcess/INFO] terminating pool\n"
     ]
    }
   ],
   "source": [
    "from ema_workbench import MultiprocessingEvaluator\n",
    "from ema_workbench import ema_logging\n",
    "\n",
    "ema_logging.log_to_stderr(ema_logging.INFO)\n",
    "\n",
    "with MultiprocessingEvaluator(model) as evaluator:\n",
    "    results = evaluator.optimize(nfe=250, searchover='levers', \n",
    "                                 epsilons=[0.1,]*len(model.outcomes),\n",
    "                                 constraints=constraints)"
   ]
  },
  {
   "cell_type": "code",
   "execution_count": 6,
   "metadata": {},
   "outputs": [
    {
     "data": {
      "text/html": [
       "<div>\n",
       "<style scoped>\n",
       "    .dataframe tbody tr th:only-of-type {\n",
       "        vertical-align: middle;\n",
       "    }\n",
       "\n",
       "    .dataframe tbody tr th {\n",
       "        vertical-align: top;\n",
       "    }\n",
       "\n",
       "    .dataframe thead th {\n",
       "        text-align: right;\n",
       "    }\n",
       "</style>\n",
       "<table border=\"1\" class=\"dataframe\">\n",
       "  <thead>\n",
       "    <tr style=\"text-align: right;\">\n",
       "      <th></th>\n",
       "      <th>c1</th>\n",
       "      <th>c2</th>\n",
       "      <th>r1</th>\n",
       "      <th>r2</th>\n",
       "      <th>w1</th>\n",
       "      <th>max_P</th>\n",
       "      <th>utility</th>\n",
       "      <th>inertia</th>\n",
       "      <th>reliability</th>\n",
       "    </tr>\n",
       "  </thead>\n",
       "  <tbody>\n",
       "    <tr>\n",
       "      <th>0</th>\n",
       "      <td>0.215612</td>\n",
       "      <td>0.218454</td>\n",
       "      <td>0.527018</td>\n",
       "      <td>1.892405</td>\n",
       "      <td>0.549357</td>\n",
       "      <td>0.091259</td>\n",
       "      <td>0.228563</td>\n",
       "      <td>0.99</td>\n",
       "      <td>1.0</td>\n",
       "    </tr>\n",
       "    <tr>\n",
       "      <th>1</th>\n",
       "      <td>0.453117</td>\n",
       "      <td>1.395216</td>\n",
       "      <td>1.178432</td>\n",
       "      <td>1.791358</td>\n",
       "      <td>0.951829</td>\n",
       "      <td>0.191578</td>\n",
       "      <td>0.519516</td>\n",
       "      <td>0.99</td>\n",
       "      <td>1.0</td>\n",
       "    </tr>\n",
       "  </tbody>\n",
       "</table>\n",
       "</div>"
      ],
      "text/plain": [
       "         c1        c2        r1        r2        w1     max_P   utility  \\\n",
       "0  0.215612  0.218454  0.527018  1.892405  0.549357  0.091259  0.228563   \n",
       "1  0.453117  1.395216  1.178432  1.791358  0.951829  0.191578  0.519516   \n",
       "\n",
       "   inertia  reliability  \n",
       "0     0.99          1.0  \n",
       "1     0.99          1.0  "
      ]
     },
     "execution_count": 6,
     "metadata": {},
     "output_type": "execute_result"
    }
   ],
   "source": [
    "results"
   ]
  },
  {
   "cell_type": "markdown",
   "metadata": {},
   "source": [
    "### Tracking convergence \n",
    "An important part of using many-objective evolutionary algorithms is to carefully monitor whether they have converged. Various different metrics can be used for this. The workbench supports two useful metrics known as hypervolume and epsilon progress. "
   ]
  },
  {
   "cell_type": "code",
   "execution_count": 7,
   "metadata": {},
   "outputs": [
    {
     "name": "stderr",
     "output_type": "stream",
     "text": [
      "[MainProcess/INFO] pool started\n",
      "[MainProcess/INFO] generation 0: 0/10000 nfe\n",
      "[MainProcess/INFO] generation 5: 498/10000 nfe\n",
      "[MainProcess/INFO] generation 10: 986/10000 nfe\n",
      "[MainProcess/INFO] generation 15: 1485/10000 nfe\n",
      "[MainProcess/INFO] generation 20: 1977/10000 nfe\n",
      "[MainProcess/INFO] generation 25: 2469/10000 nfe\n",
      "[MainProcess/INFO] generation 30: 2965/10000 nfe\n",
      "[MainProcess/INFO] generation 35: 3458/10000 nfe\n",
      "[MainProcess/INFO] generation 40: 3952/10000 nfe\n",
      "[MainProcess/INFO] generation 45: 4447/10000 nfe\n",
      "[MainProcess/INFO] generation 50: 4944/10000 nfe\n",
      "[MainProcess/INFO] generation 55: 5440/10000 nfe\n",
      "[MainProcess/INFO] generation 60: 5933/10000 nfe\n",
      "[MainProcess/INFO] generation 65: 6428/10000 nfe\n",
      "[MainProcess/INFO] generation 70: 6925/10000 nfe\n",
      "[MainProcess/INFO] generation 75: 7417/10000 nfe\n",
      "[MainProcess/INFO] generation 80: 7909/10000 nfe\n",
      "[MainProcess/INFO] generation 85: 8406/10000 nfe\n",
      "[MainProcess/INFO] generation 90: 8902/10000 nfe\n",
      "[MainProcess/INFO] generation 95: 9398/10000 nfe\n",
      "[MainProcess/INFO] generation 100: 9888/10000 nfe\n",
      "[MainProcess/INFO] optimization completed, found 16 solutions\n",
      "[MainProcess/INFO] terminating pool\n"
     ]
    },
    {
     "data": {
      "image/png": "[encoded data removed]",
      "text/plain": [
       "<Figure size 576x288 with 2 Axes>"
      ]
     },
     "metadata": {
      "needs_background": "light"
     },
     "output_type": "display_data"
    }
   ],
   "source": [
    "from ema_workbench.em_framework.optimization import (HyperVolume,\n",
    "                                                     EpsilonProgress)\n",
    "\n",
    "convergence_metrics = [HyperVolume(minimum=[0,0,0,0], maximum=[1,1.01,1.01,1.01]),\n",
    "                       EpsilonProgress()]\n",
    "\n",
    "with MultiprocessingEvaluator(model) as evaluator:\n",
    "    results, convergence = evaluator.optimize(nfe=10000, searchover='levers', \n",
    "                                    epsilons=[0.05,]*len(model.outcomes),\n",
    "                                    convergence=convergence_metrics,\n",
    "                                    constraints=constraints)\n",
    "\n",
    "fig, (ax1, ax2) = plt.subplots(ncols=2, sharex=True, figsize=(8,4))\n",
    "ax1.plot(convergence.nfe, convergence.epsilon_progress)\n",
    "ax1.set_ylabel('$\\epsilon$-progress')\n",
    "ax2.plot(convergence.nfe, convergence.hypervolume)\n",
    "ax2.set_ylabel('hypervolume')\n",
    "\n",
    "ax1.set_xlabel('number of function evaluations')\n",
    "ax2.set_xlabel('number of function evaluations')\n",
    "plt.show()"
   ]
  },
  {
   "cell_type": "markdown",
   "metadata": {},
   "source": [
    "### Changing the reference scenario \n",
    "\n",
    "The workbench offers control over the reference scenario or policy under which you are performing the optimization. This makes it easy to aply multi-scenario MORDM [(Watson & Kasprzyk, 2017)](https://www.sciencedirect.com/science/article/pii/S1364815216310593). Alternatively, you can also use it to change the policy for which you are applying worst case scenario discovery (see below). \n",
    "\n",
    "\n",
    "```python\n",
    "reference = Scenario('reference', b=0.4, q=2, mean=0.02, stdev=0.01)\n",
    "\n",
    "with MultiprocessingEvaluator(lake_model) as evaluator:\n",
    "    results = evaluator.optimize(searchover='levers', nfe=1000,\n",
    "                       epsilons=[0.1, ]*len(lake_model.outcomes),\n",
    "                       reference=reference)\n",
    "```\n"
   ]
  },
  {
   "cell_type": "markdown",
   "metadata": {},
   "source": [
    "## Search over uncertainties: worst case discovery\n",
    "Up till now, the focus has been on applying search to find promising candidate strategies. That is, we search through the lever space. However, there might also be good reasons to search through the uncertainty space. For example to search for worst case scenarios [(Halim et al, 2015)](https://www.sciencedirect.com/science/article/pii/S0016328715001342). This is easily achieved as shown below. We change the kind attribute on each outcome so that we search for the worst outcome and specify that we would like to search over the uncertainties instead of the levers.\n",
    "\n",
    "Any of the foregoing additions such as constraints or converence work as shown above. Note that if you would like to to change the reference policy, reference should be a Policy object rather than a Scenario object.\n"
   ]
  },
  {
   "cell_type": "code",
   "execution_count": 8,
   "metadata": {
    "collapsed": true
   },
   "outputs": [
    {
     "name": "stderr",
     "output_type": "stream",
     "text": [
      "[MainProcess/INFO] pool started\n",
      "[MainProcess/INFO] generation 0: 0/1000 nfe\n",
      "[MainProcess/INFO] generation 5: 498/1000 nfe\n",
      "[MainProcess/INFO] generation 10: 991/1000 nfe\n",
      "[MainProcess/INFO] optimization completed, found 7 solutions\n",
      "[MainProcess/INFO] terminating pool\n"
     ]
    }
   ],
   "source": [
    "# change outcomes so direction is undesirable\n",
    "minimize = ScalarOutcome.MINIMIZE\n",
    "maximize = ScalarOutcome.MAXIMIZE\n",
    "\n",
    "for outcome in model.outcomes:\n",
    "    if outcome.kind == minimize:\n",
    "        outcome.kind = maximize\n",
    "    else:\n",
    "        outcome.kind = minimize\n",
    "\n",
    "with MultiprocessingEvaluator(model) as evaluator:\n",
    "    results = evaluator.optimize(nfe=1000, searchover='uncertainties', \n",
    "                                 epsilons=[0.1,]*len(model.outcomes))"
   ]
  },
  {
   "cell_type": "markdown",
   "metadata": {},
   "source": [
    "## Parallel coordinate plots\n",
    "\n",
    "The workbench comes with support for making parallel axis plots through the parcoords module. This module offers a parallel axes object on which we can plot data. The typical workflow is to first instantiate this parallel axes object given a pandas dataframe with the upper and lower limits for each axes. Next, one or more datasets can be plotted on this axes. Any dataframe passed to the plot method will be normalized using the limits passed first. We can also invert any of the axes to ensure that the desirable direction is the same for all axes."
   ]
  },
  {
   "cell_type": "code",
   "execution_count": 9,
   "metadata": {},
   "outputs": [
    {
     "name": "stderr",
     "output_type": "stream",
     "text": [
      "/anaconda3/lib/python3.7/importlib/_bootstrap.py:219: ImportWarning: can't resolve package from __spec__ or __package__, falling back on __name__ and __path__\n",
      "  return f(*args, **kwds)\n"
     ]
    },
    {
     "data": {
      "image/png": "[encoded data removed]",
      "text/plain": [
       "<Figure size 432x288 with 3 Axes>"
      ]
     },
     "metadata": {},
     "output_type": "display_data"
    }
   ],
   "source": [
    "from ema_workbench.analysis import parcoords\n",
    "\n",
    "data = results.loc[:, [o.name for o in model.outcomes]]\n",
    "limits = parcoords.get_limits(data)\n",
    "limits.loc[0, ['utility', 'inertia', 'reliability', 'max_P']] = 0\n",
    "limits.loc[1, ['utility', 'inertia', 'reliability']] = 1\n",
    "\n",
    "paraxes = parcoords.ParallelAxes(limits)\n",
    "paraxes.plot(data)\n",
    "paraxes.invert_axis('max_P')\n",
    "plt.show()"
   ]
  },
  {
   "cell_type": "markdown",
   "metadata": {},
   "source": [
    "## Robust Search\n",
    "\n",
    "In the foregoing, we have been using optimization over levers or uncertainties, while assuming a reference scenario or policy. However, we can also formulate a robust many objective optimization problem, were we are going to search over the levers for solutions that have robust performance over a set of scenarios. To do this with the workbench, there are several steps that one has to take.\n",
    "\n",
    "First, we need to specify our robustness metrics. A robustness metric takes as input the performance of a candidate policy over a set of scenarios and returns a single robustness score. For a more in depth overview, see[McPhail et al. (2018)](https://agupubs.onlinelibrary.wiley.com/doi/full/10.1002/2017EF000649). In case of the workbench, we can use the ScalarOutcome class for this. We need to specify the name of the robustness metric a function that takes as input a numpy array and returns a single number, and the model outcome to which this function should be applied. \n",
    "\n",
    "Below, we use a percentile based robustness metric, which we apply to each model outcome. "
   ]
  },
  {
   "cell_type": "code",
   "execution_count": 13,
   "metadata": {
    "collapsed": true
   },
   "outputs": [],
   "source": [
    "import functools\n",
    "\n",
    "percentile10 = functools.partial(np.percentile, q=10)\n",
    "percentile90 = functools.partial(np.percentile, q=90)\n",
    "\n",
    "MAXIMIZE = ScalarOutcome.MAXIMIZE\n",
    "MINIMIZE = ScalarOutcome.MINIMIZE\n",
    "robustnes_functions = [ScalarOutcome('90th percentile max_p', kind=MINIMIZE, \n",
    "                             variable_name='max_P', function=percentile90),\n",
    "                       ScalarOutcome('10th percentile reliability', kind=MAXIMIZE, \n",
    "                             variable_name='reliability', function=percentile10),\n",
    "                       ScalarOutcome('10th percentile inertia', kind=MAXIMIZE, \n",
    "                             variable_name='inertia', function=percentile10),\n",
    "                       ScalarOutcome('10th percentile utility', kind=MAXIMIZE, \n",
    "                             variable_name='utility', function=percentile10)]\n",
    "\n"
   ]
  },
  {
   "cell_type": "markdown",
   "metadata": {},
   "source": [
    "Next, we have to generate the scenarios we want to use. Below we generate 50 scenarios, which we will keep fixed over the optimization. The exact number of scenarios to use is to be established through trial and error. Typically it involves balancing computational costs of more scenarios, with the stability of the robustness metric over the number of scenarios"
   ]
  },
  {
   "cell_type": "code",
   "execution_count": 14,
   "metadata": {},
   "outputs": [],
   "source": [
    "from ema_workbench.em_framework import sample_uncertainties\n",
    "\n",
    "n_scenarios = 50\n",
    "scenarios = sample_uncertainties(model, n_scenarios)\n"
   ]
  },
  {
   "cell_type": "markdown",
   "metadata": {},
   "source": [
    "With the robustness metrics specified, and the scenarios, sampled, we can now perform robust many-objective optimization. Below is the code that one would run. Note that this is computationally very expensive since each candidate solution is going to be run for fifty scenarios before we can calculate the robustness for each outcome of interest."
   ]
  },
  {
   "cell_type": "markdown",
   "metadata": {},
   "source": [
    "\n",
    "```python\n",
    "nfe = int(1e6)\n",
    "with MultiprocessingEvaluator(model) as evaluator:\n",
    "    robust_results = evaluator.robust_optimize(robustnes_functions, scenarios, \n",
    "                            nfe=nfe, epsilons=[0.05,]*len(robustnes_functions))\n",
    "```"
   ]
  },
  {
   "cell_type": "code",
   "execution_count": null,
   "metadata": {},
   "outputs": [],
   "source": []
  }
 ],
 "metadata": {
  "kernelspec": {
   "display_name": "Python 3",
   "language": "python",
   "name": "python3"
  },
  "language_info": {
   "codemirror_mode": {
    "name": "ipython",
    "version": 3
   },
   "file_extension": ".py",
   "mimetype": "text/x-python",
   "name": "python",
   "nbconvert_exporter": "python",
   "pygments_lexer": "ipython3",
   "version": "3.7.2"
  },
  "latex_envs": {
   "LaTeX_envs_menu_present": true,
   "autocomplete": true,
   "bibliofile": "biblio.bib",
   "cite_by": "apalike",
   "current_citInitial": 1,
   "eqLabelWithNumbers": true,
   "eqNumInitial": 1,
   "hotkeys": {
    "equation": "Ctrl-E",
    "itemize": "Ctrl-I"
   },
   "labels_anchors": false,
   "latex_user_defs": false,
   "report_style_numbering": false,
   "user_envs_cfg": false
  }
 },
 "nbformat": 4,
 "nbformat_minor": 2
}
