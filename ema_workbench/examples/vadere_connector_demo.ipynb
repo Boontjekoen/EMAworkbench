{
 "cells": [
  {
   "cell_type": "markdown",
   "metadata": {},
   "source": [
    "# Vadere EMA connector demo\n",
    "This notebook demonstrates the setup of a Vadere model connection. It uses an example Vadere model, made with Vadere 2.1. Before running the code yourself, please aquire a copy of Vadere from [the official Vadere website](https://www.vadere.org/download/). For more information on the use of the EMA Workbench, please refer to the [official EMA Workbench documentation](https://emaworkbench.readthedocs.io/en/latest/). This demo is based on the code provided on the documentation pages."
   ]
  },
  {
   "cell_type": "markdown",
   "metadata": {},
   "source": [
    "## Step 1: imports\n",
    "The first step is to import the needed modules. This depends on the use and the type of analysis that is intended. The most important one here is the VadereModel from the model connectors. As said, please refer for more information on this to the [official EMA Workbench documentation](https://emaworkbench.readthedocs.io/en/latest/)."
   ]
  },
  {
   "cell_type": "code",
   "execution_count": 1,
   "metadata": {},
   "outputs": [
    {
     "name": "stderr",
     "output_type": "stream",
     "text": [
      "/home/geodan-florisb/anaconda3/envs/testCrowdSim/lib/python3.10/site-packages/ema_workbench-2.1.3-py3.10.egg/ema_workbench/connectors/__init__.py:19: ImportWarning: vensim connector not available\n",
      "  warnings.warn(\"vensim connector not available\", ImportWarning)\n",
      "/home/geodan-florisb/anaconda3/envs/testCrowdSim/lib/python3.10/site-packages/ema_workbench-2.1.3-py3.10.egg/ema_workbench/connectors/__init__.py:29: ImportWarning: netlogo connector not available\n",
      "  warnings.warn(\"netlogo connector not available\", ImportWarning)\n",
      "/home/geodan-florisb/anaconda3/envs/testCrowdSim/lib/python3.10/site-packages/ema_workbench-2.1.3-py3.10.egg/ema_workbench/connectors/__init__.py:34: ImportWarning: simio connector not available\n",
      "  warnings.warn(\"simio connector not available\", ImportWarning)\n"
     ]
    }
   ],
   "source": [
    "from ema_workbench import (perform_experiments, RealParameter, ema_logging,\n",
    "                           MultiprocessingEvaluator, Samplers,\n",
    "                           ScalarOutcome, IntegerParameter, RealParameter)\n",
    "from ema_workbench.connectors.vadere import VadereModel\n",
    "import pandas as pd\n",
    "import numpy as np"
   ]
  },
  {
   "cell_type": "markdown",
   "metadata": {},
   "source": [
    "## Step 2: Setting up the model\n",
    "In this demonstration, we use a simple Vadere model example. The model includes two sources and one target, and spawns a number of pedestrians every second. The model uses the OSM locomotion implementation, and collects the following:\n",
    "\n",
    "The average evacuation time -> stored in evacuationTime.txt\n",
    "The average speed of all pedestrians each time step -> stored in speed.csv\n",
    "Note that the EMA connector assumes .txt files for scalar outcomes and .csv files for time series outcomes. Pleasure use these file types, and declare them explicitly in processor_files as shown below."
   ]
  },
  {
   "cell_type": "code",
   "execution_count": 2,
   "metadata": {},
   "outputs": [],
   "source": [
    "# This model saves scalar results to a density.txt and speed.txt file.\n",
    "# Please acquire your own copy of Vadere, and place the vadere-console.jar in your model/scenarios directory\n",
    "# Note that the vadere model files should always be placed in a separate wd as the python runfile\n",
    "model = VadereModel('demoModel', \n",
    "                    vadere_jar='vadere-console.jar',\n",
    "                    processor_files=[\n",
    "                        'evacuationTime.txt',\n",
    "                        'speed.csv'\n",
    "                    ],\n",
    "                    model_file='demo.scenario',\n",
    "                    wd='models/vadereModel/scenarios/')"
   ]
  },
  {
   "cell_type": "code",
   "execution_count": 3,
   "metadata": {},
   "outputs": [],
   "source": [
    "# set the number of replications to handle model stochasticity\n",
    "model.replications = 5"
   ]
  },
  {
   "cell_type": "markdown",
   "metadata": {},
   "source": [
    "Note that for specifying model uncertainties (and potential levers), the Vadere model class can change any variable present in the model file (Vadere scenario). To realize this, an exact location to the variable of interest in the Vadere scenario file has to be specified. Vadere scenario files follow a nested dictionary structure. Therefore, the exact location of the variable should be passed in a list of argumentes, passed as one string. \n",
    "\n",
    "See the example below, that variates the following:\n",
    "\n",
    "- The number of spawned pedestrians from both sources\n",
    "- The mean of the free flow speed distribution"
   ]
  },
  {
   "cell_type": "code",
   "execution_count": 4,
   "metadata": {},
   "outputs": [],
   "source": [
    "model.uncertainties = [\n",
    "    IntegerParameter(\n",
    "        name='spawnNumberA',\n",
    "        lower_bound=1,\n",
    "        upper_bound=50,\n",
    "        variable_name=[\n",
    "            '(\"scenario\", \"topography\", \"sources\", 0, \"spawnNumber\")',\n",
    "        ]\n",
    "    ),\n",
    "    IntegerParameter(\n",
    "        name='spawnNumberB',\n",
    "        lower_bound=1,\n",
    "        upper_bound=50,\n",
    "        variable_name=[\n",
    "            '(\"scenario\", \"topography\", \"sources\", 1, \"spawnNumber\")',\n",
    "        ]\n",
    "    ),\n",
    "    RealParameter(\n",
    "        name='μFreeFlowSpeed',\n",
    "        lower_bound=0.7,\n",
    "        upper_bound=1.5,\n",
    "        variable_name=[\n",
    "            '(\"scenario\", \"topography\", \"attributesPedestrian\", \"speedDistributionMean\")',\n",
    "        ]\n",
    "    )\n",
    "]"
   ]
  },
  {
   "cell_type": "markdown",
   "metadata": {},
   "source": [
    "The model outcomes can be specified by passing the exact name as present in the output file (speed.txt here). The naming convention depends on the used Vadere data processors, but usually follows the name + id of the processor. When in doubt, it is advised to do a demo Vadere run using the Vadere software and to inspect the generated output files. Note that we take the mean of the outcomes here, since we specified multiple replications. Note that we now only focus on scalar outcomes. See the end of this demo for timeseries."
   ]
  },
  {
   "cell_type": "code",
   "execution_count": 5,
   "metadata": {},
   "outputs": [],
   "source": [
    "model.outcomes = [\n",
    "    ScalarOutcome(\n",
    "        name='evacuationTime',\n",
    "        variable_name='meanEvacuationTime-PID8',\n",
    "        function=np.mean\n",
    "    )\n",
    "]"
   ]
  },
  {
   "cell_type": "markdown",
   "metadata": {},
   "source": [
    "## Step 3: Performing experiments\n",
    "The last step is to perform experiment with the Vadere model. Both sequential runs as runs in parallel are supported. Note however that a Vadere run can use a lot of RAM, and using all available CPU cores can lead to performance issues in some cases. Additionally, one Vadere run is by default already multithreaded. It is therefore recommended to not use the full set of available processes."
   ]
  },
  {
   "cell_type": "code",
   "execution_count": 6,
   "metadata": {},
   "outputs": [
    {
     "data": {
      "text/plain": [
       "<Logger EMA (DEBUG)>"
      ]
     },
     "execution_count": 6,
     "metadata": {},
     "output_type": "execute_result"
    }
   ],
   "source": [
    "# enable EMA logging\n",
    "ema_logging.log_to_stderr(ema_logging.INFO)"
   ]
  },
  {
   "cell_type": "code",
   "execution_count": 7,
   "metadata": {},
   "outputs": [
    {
     "name": "stderr",
     "output_type": "stream",
     "text": [
      "[MainProcess/INFO] performing 2 scenarios * 1 policies * 1 model(s) = 2 experiments\n",
      "  0%|                                                    | 0/2 [00:00<?, ?it/s][MainProcess/INFO] performing experiments sequentially\n",
      "100%|████████████████████████████████████████████| 2/2 [01:35<00:00, 47.52s/it]\n",
      "[MainProcess/INFO] experiments finished\n"
     ]
    }
   ],
   "source": [
    "# run in sequential 2 experiments\n",
    "results_sequential = perform_experiments(\n",
    "    model,\n",
    "    scenarios=2,\n",
    "    uncertainty_sampling=Samplers.LHS\n",
    ")"
   ]
  },
  {
   "cell_type": "code",
   "execution_count": 8,
   "metadata": {},
   "outputs": [
    {
     "name": "stderr",
     "output_type": "stream",
     "text": [
      "[MainProcess/INFO] pool started with 4 workers\n",
      "[MainProcess/INFO] performing 4 scenarios * 1 policies * 1 model(s) = 4 experiments\n",
      "100%|████████████████████████████████████████████| 4/4 [01:43<00:00, 25.85s/it]\n",
      "[MainProcess/INFO] experiments finished\n",
      "[MainProcess/INFO] terminating pool\n",
      "[ForkPoolWorker-1/INFO] finalizing\n",
      "[ForkPoolWorker-3/INFO] finalizing\n",
      "[ForkPoolWorker-2/INFO] finalizing\n",
      "[ForkPoolWorker-4/INFO] finalizing\n"
     ]
    }
   ],
   "source": [
    "# run 6 experiments in parallel\n",
    "with MultiprocessingEvaluator(model, n_processes=4) as evaluator:\n",
    "        experiments, outcomes = evaluator.perform_experiments(\n",
    "                scenarios=4,\n",
    "                uncertainty_sampling=Samplers.LHS\n",
    ")"
   ]
  },
  {
   "cell_type": "markdown",
   "metadata": {},
   "source": [
    "## Inspect the results\n",
    "we can now look at the results directly. For more extensive exploratory analysis methods, please refer to the [official EMA Workbench documentation](https://emaworkbench.readthedocs.io/en/latest/)."
   ]
  },
  {
   "cell_type": "code",
   "execution_count": 9,
   "metadata": {},
   "outputs": [
    {
     "data": {
      "text/html": [
       "<div>\n",
       "<style scoped>\n",
       "    .dataframe tbody tr th:only-of-type {\n",
       "        vertical-align: middle;\n",
       "    }\n",
       "\n",
       "    .dataframe tbody tr th {\n",
       "        vertical-align: top;\n",
       "    }\n",
       "\n",
       "    .dataframe thead th {\n",
       "        text-align: right;\n",
       "    }\n",
       "</style>\n",
       "<table border=\"1\" class=\"dataframe\">\n",
       "  <thead>\n",
       "    <tr style=\"text-align: right;\">\n",
       "      <th></th>\n",
       "      <th>spawnNumberA</th>\n",
       "      <th>spawnNumberB</th>\n",
       "      <th>μFreeFlowSpeed</th>\n",
       "      <th>scenario</th>\n",
       "      <th>policy</th>\n",
       "      <th>model</th>\n",
       "    </tr>\n",
       "  </thead>\n",
       "  <tbody>\n",
       "    <tr>\n",
       "      <th>0</th>\n",
       "      <td>37.0</td>\n",
       "      <td>34.0</td>\n",
       "      <td>0.977644</td>\n",
       "      <td>2</td>\n",
       "      <td>None</td>\n",
       "      <td>demoModel</td>\n",
       "    </tr>\n",
       "    <tr>\n",
       "      <th>1</th>\n",
       "      <td>47.0</td>\n",
       "      <td>42.0</td>\n",
       "      <td>0.795088</td>\n",
       "      <td>3</td>\n",
       "      <td>None</td>\n",
       "      <td>demoModel</td>\n",
       "    </tr>\n",
       "    <tr>\n",
       "      <th>2</th>\n",
       "      <td>19.0</td>\n",
       "      <td>13.0</td>\n",
       "      <td>1.348625</td>\n",
       "      <td>4</td>\n",
       "      <td>None</td>\n",
       "      <td>demoModel</td>\n",
       "    </tr>\n",
       "    <tr>\n",
       "      <th>3</th>\n",
       "      <td>3.0</td>\n",
       "      <td>7.0</td>\n",
       "      <td>1.294808</td>\n",
       "      <td>5</td>\n",
       "      <td>None</td>\n",
       "      <td>demoModel</td>\n",
       "    </tr>\n",
       "  </tbody>\n",
       "</table>\n",
       "</div>"
      ],
      "text/plain": [
       "   spawnNumberA  spawnNumberB  μFreeFlowSpeed scenario policy      model\n",
       "0          37.0          34.0        0.977644        2   None  demoModel\n",
       "1          47.0          42.0        0.795088        3   None  demoModel\n",
       "2          19.0          13.0        1.348625        4   None  demoModel\n",
       "3           3.0           7.0        1.294808        5   None  demoModel"
      ]
     },
     "execution_count": 9,
     "metadata": {},
     "output_type": "execute_result"
    }
   ],
   "source": [
    "experiments.head()"
   ]
  },
  {
   "cell_type": "code",
   "execution_count": 10,
   "metadata": {},
   "outputs": [
    {
     "data": {
      "text/html": [
       "<div>\n",
       "<style scoped>\n",
       "    .dataframe tbody tr th:only-of-type {\n",
       "        vertical-align: middle;\n",
       "    }\n",
       "\n",
       "    .dataframe tbody tr th {\n",
       "        vertical-align: top;\n",
       "    }\n",
       "\n",
       "    .dataframe thead th {\n",
       "        text-align: right;\n",
       "    }\n",
       "</style>\n",
       "<table border=\"1\" class=\"dataframe\">\n",
       "  <thead>\n",
       "    <tr style=\"text-align: right;\">\n",
       "      <th></th>\n",
       "      <th>evacuationTime</th>\n",
       "    </tr>\n",
       "  </thead>\n",
       "  <tbody>\n",
       "    <tr>\n",
       "      <th>0</th>\n",
       "      <td>13.557183</td>\n",
       "    </tr>\n",
       "    <tr>\n",
       "      <th>1</th>\n",
       "      <td>16.684944</td>\n",
       "    </tr>\n",
       "    <tr>\n",
       "      <th>2</th>\n",
       "      <td>8.567500</td>\n",
       "    </tr>\n",
       "    <tr>\n",
       "      <th>3</th>\n",
       "      <td>6.888000</td>\n",
       "    </tr>\n",
       "  </tbody>\n",
       "</table>\n",
       "</div>"
      ],
      "text/plain": [
       "   evacuationTime\n",
       "0       13.557183\n",
       "1       16.684944\n",
       "2        8.567500\n",
       "3        6.888000"
      ]
     },
     "execution_count": 10,
     "metadata": {},
     "output_type": "execute_result"
    }
   ],
   "source": [
    "pd.DataFrame(outcomes).head()"
   ]
  },
  {
   "cell_type": "code",
   "execution_count": 11,
   "metadata": {},
   "outputs": [
    {
     "name": "stderr",
     "output_type": "stream",
     "text": [
      "/home/geodan-florisb/anaconda3/envs/testCrowdSim/lib/python3.10/site-packages/ema_workbench-2.1.3-py3.10.egg/ema_workbench/analysis/prim.py:30: ImportWarning: altair based interactive inspection not available\n",
      "  warnings.warn(\n",
      "[MainProcess/INFO] no time dimension found in results\n"
     ]
    },
    {
     "data": {
      "image/png": "[encoded data removed]",
      "text/plain": [
       "<Figure size 576x576 with 1 Axes>"
      ]
     },
     "metadata": {
      "needs_background": "light"
     },
     "output_type": "display_data"
    }
   ],
   "source": [
    "from ema_workbench.analysis import pairs_plotting\n",
    "import matplotlib.pyplot as plt\n",
    "\n",
    "fig, axes = pairs_plotting.pairs_scatter(experiments, outcomes,\n",
    "                                        legend=False)\n",
    "fig.set_size_inches(8,8)\n",
    "plt.show()"
   ]
  },
  {
   "cell_type": "markdown",
   "metadata": {},
   "source": [
    "# Using time series data\n",
    "It is additionally possible to specify time series output data. See below for an example on how to do this. \n",
    "\n",
    "Note that this example now uses a different model class, since we do not want to average multiple scalar outcomes but are rather interested in a time series outcome. Hence, the SingleReplicationVadereModel is used. Now, the timeStep and average speeds are collected every step."
   ]
  },
  {
   "cell_type": "code",
   "execution_count": 12,
   "metadata": {},
   "outputs": [],
   "source": [
    "from ema_workbench import TimeSeriesOutcome\n",
    "from ema_workbench.connectors.vadere import SingleReplicationVadereModel"
   ]
  },
  {
   "cell_type": "code",
   "execution_count": 13,
   "metadata": {},
   "outputs": [],
   "source": [
    "# This model saves scalar results to a density.txt and speed.txt file.\n",
    "# Please acquire your own copy of Vadere, and place the vadere-console.jar in your model/scenarios directory\n",
    "# Note that the vadere model files should always be placed in a separate wd as the python runfile\n",
    "model = SingleReplicationVadereModel('demoModel', \n",
    "                    vadere_jar='vadere-console.jar',\n",
    "                    processor_files=[\n",
    "                        'evacuationTime.txt',\n",
    "                        'speed.csv'\n",
    "                    ],\n",
    "                    model_file='demo.scenario',\n",
    "                    wd='models/vadereModel/scenarios/')"
   ]
  },
  {
   "cell_type": "code",
   "execution_count": 14,
   "metadata": {},
   "outputs": [],
   "source": [
    "model.uncertainties = [\n",
    "    IntegerParameter(\n",
    "        name='spawnNumberA',\n",
    "        lower_bound=1,\n",
    "        upper_bound=50,\n",
    "        variable_name=[\n",
    "            '(\"scenario\", \"topography\", \"sources\", 0, \"spawnNumber\")',\n",
    "        ]\n",
    "    ),\n",
    "    IntegerParameter(\n",
    "        name='spawnNumberB',\n",
    "        lower_bound=1,\n",
    "        upper_bound=50,\n",
    "        variable_name=[\n",
    "            '(\"scenario\", \"topography\", \"sources\", 1, \"spawnNumber\")',\n",
    "        ]\n",
    "    ),\n",
    "    RealParameter(\n",
    "        name='μFreeFlowSpeed',\n",
    "        lower_bound=0.7,\n",
    "        upper_bound=1.5,\n",
    "        variable_name=[\n",
    "            '(\"scenario\", \"topography\", \"attributesPedestrian\", \"speedDistributionMean\")',\n",
    "        ]\n",
    "    )\n",
    "]"
   ]
  },
  {
   "cell_type": "code",
   "execution_count": 15,
   "metadata": {},
   "outputs": [],
   "source": [
    "model.outcomes = [\n",
    "    TimeSeriesOutcome(\n",
    "        name='speedTime',\n",
    "        variable_name='areaSpeed-PID5',\n",
    "    )\n",
    "]"
   ]
  },
  {
   "cell_type": "code",
   "execution_count": 16,
   "metadata": {},
   "outputs": [
    {
     "name": "stderr",
     "output_type": "stream",
     "text": [
      "[MainProcess/INFO] pool started with 4 workers\n",
      "[MainProcess/INFO] performing 4 scenarios * 1 policies * 1 model(s) = 4 experiments\n",
      "100%|████████████████████████████████████████████| 4/4 [00:21<00:00,  5.29s/it]\n",
      "[MainProcess/INFO] experiments finished\n",
      "[MainProcess/INFO] terminating pool\n",
      "[ForkPoolWorker-7/INFO] finalizing\n",
      "[ForkPoolWorker-5/INFO] finalizing\n",
      "[ForkPoolWorker-8/INFO] finalizing\n",
      "[ForkPoolWorker-6/INFO] finalizing\n"
     ]
    }
   ],
   "source": [
    "# run 4 experiments in parallel\n",
    "with MultiprocessingEvaluator(model, n_processes=4) as evaluator:\n",
    "        experiments, outcomes = evaluator.perform_experiments(\n",
    "                scenarios=4,\n",
    "                uncertainty_sampling=Samplers.LHS\n",
    ")"
   ]
  },
  {
   "cell_type": "code",
   "execution_count": 17,
   "metadata": {},
   "outputs": [
    {
     "data": {
      "text/plain": [
       "(<Figure size 432x288 with 1 Axes>,\n",
       " {'speedTime': <AxesSubplot:title={'center':'speedTime'}, xlabel='Time', ylabel='speedTime'>})"
      ]
     },
     "execution_count": 17,
     "metadata": {},
     "output_type": "execute_result"
    },
    {
     "data": {
      "image/png": "[encoded data removed]",
      "text/plain": [
       "<Figure size 432x288 with 1 Axes>"
      ]
     },
     "metadata": {
      "needs_background": "light"
     },
     "output_type": "display_data"
    }
   ],
   "source": [
    "from ema_workbench.analysis.plotting import lines\n",
    "lines(experiments, outcomes, outcomes_to_show='speedTime')"
   ]
  }
 ],
 "metadata": {
  "interpreter": {
   "hash": "0459880e260e094fc619a34e1d6d301a09b9955f38537d5834804b8e9b557f55"
  },
  "kernelspec": {
   "display_name": "Python 3.10.0 ('CrowdSim')",
   "language": "python",
   "name": "python3"
  },
  "language_info": {
   "codemirror_mode": {
    "name": "ipython",
    "version": 3
   },
   "file_extension": ".py",
   "mimetype": "text/x-python",
   "name": "python",
   "nbconvert_exporter": "python",
   "pygments_lexer": "ipython3",
   "version": "3.10.4"
  },
  "orig_nbformat": 4
 },
 "nbformat": 4,
 "nbformat_minor": 2
}
